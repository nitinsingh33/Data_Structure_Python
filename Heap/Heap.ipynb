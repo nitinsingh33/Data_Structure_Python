{
 "cells": [
  {
   "cell_type": "markdown",
   "metadata": {},
   "source": [
    "# Complete Binary Tree\n",
    "\n",
    "**All levels in binary tree must be completely filled.**\n",
    "\n",
    "Level 0 ----->       O                                      e.g        Lo -----> 1 (node)\n",
    "                    / \\                                                L1 -----> 2\n",
    "Level 1 ----->     O   O                                               L2 -----> 4\n",
    "                  / \\ / \\                                              L3 -----> 8\n",
    "Level 2 ----->   O  O O  O                                             L4 -----> 16\n",
    "                                                                       L5 -----> 2^n^        "
   ]
  }
 ],
 "metadata": {
  "language_info": {
   "name": "python"
  }
 },
 "nbformat": 4,
 "nbformat_minor": 2
}
