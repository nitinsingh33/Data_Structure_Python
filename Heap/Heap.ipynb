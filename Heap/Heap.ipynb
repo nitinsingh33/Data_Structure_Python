{
 "cells": [
  {
   "cell_type": "markdown",
   "metadata": {},
   "source": [
    "### Complete Binary Tree\n",
    "\n",
    "**All levels in binary tree must be completely filled.**                                                                    "
   ]
  },
  {
   "cell_type": "markdown",
   "metadata": {},
   "source": [
    "### Almost Complete Binary Tree\n",
    "\n",
    "**All the levels must be completely filled except possibly the last level and all the nodes in the last level must be left aligned**"
   ]
  },
  {
   "cell_type": "markdown",
   "metadata": {},
   "source": [
    "![alt text](<Screenshot 2024-11-07 124757.png>)"
   ]
  }
 ],
 "metadata": {
  "language_info": {
   "name": "python"
  }
 },
 "nbformat": 4,
 "nbformat_minor": 2
}
