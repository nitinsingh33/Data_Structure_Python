{
 "cells": [
  {
   "cell_type": "markdown",
   "metadata": {},
   "source": [
    "\"C:\\Users\\NITIN SINGH\\OneDrive - Indian Institute of Technology Patna\\Pictures\\Screenshots\\Screenshot 2024-11-07 121849.png\""
   ]
  }
 ],
 "metadata": {
  "language_info": {
   "name": "python"
  }
 },
 "nbformat": 4,
 "nbformat_minor": 2
}
